{
 "cells": [
  {
   "cell_type": "code",
   "execution_count": 1,
   "id": "0458d338",
   "metadata": {
    "_cell_guid": "b1076dfc-b9ad-4769-8c92-a6c4dae69d19",
    "_uuid": "8f2839f25d086af736a60e9eeb907d3b93b6e0e5",
    "execution": {
     "iopub.execute_input": "2025-07-08T03:56:45.574888Z",
     "iopub.status.busy": "2025-07-08T03:56:45.574585Z",
     "iopub.status.idle": "2025-07-08T03:56:47.463664Z",
     "shell.execute_reply": "2025-07-08T03:56:47.462558Z"
    },
    "papermill": {
     "duration": 1.896602,
     "end_time": "2025-07-08T03:56:47.465462",
     "exception": false,
     "start_time": "2025-07-08T03:56:45.568860",
     "status": "completed"
    },
    "tags": []
   },
   "outputs": [
    {
     "name": "stdout",
     "output_type": "stream",
     "text": [
      "/kaggle/input/2024-u-s-election-sentiment-on-x/val.csv\n",
      "/kaggle/input/2024-u-s-election-sentiment-on-x/train.csv\n",
      "/kaggle/input/2024-u-s-election-sentiment-on-x/test.csv\n"
     ]
    }
   ],
   "source": [
    "# This Python 3 environment comes with many helpful analytics libraries installed\n",
    "# It is defined by the kaggle/python Docker image: https://github.com/kaggle/docker-python\n",
    "# For example, here's several helpful packages to load\n",
    "\n",
    "import numpy as np # linear algebra\n",
    "import pandas as pd # data processing, CSV file I/O (e.g. pd.read_csv)\n",
    "\n",
    "# Input data files are available in the read-only \"../input/\" directory\n",
    "# For example, running this (by clicking run or pressing Shift+Enter) will list all files under the input directory\n",
    "\n",
    "import os\n",
    "for dirname, _, filenames in os.walk('/kaggle/input'):\n",
    "    for filename in filenames:\n",
    "        print(os.path.join(dirname, filename))\n",
    "\n",
    "# You can write up to 20GB to the current directory (/kaggle/working/) that gets preserved as output when you create a version using \"Save & Run All\" \n",
    "# You can also write temporary files to /kaggle/temp/, but they won't be saved outside of the current session"
   ]
  },
  {
   "cell_type": "markdown",
   "id": "dc38a10b",
   "metadata": {
    "papermill": {
     "duration": 0.003357,
     "end_time": "2025-07-08T03:56:47.472805",
     "exception": false,
     "start_time": "2025-07-08T03:56:47.469448",
     "status": "completed"
    },
    "tags": []
   },
   "source": [
    "# Environment Setup"
   ]
  },
  {
   "cell_type": "code",
   "execution_count": 2,
   "id": "1174edcc",
   "metadata": {
    "execution": {
     "iopub.execute_input": "2025-07-08T03:56:47.481978Z",
     "iopub.status.busy": "2025-07-08T03:56:47.481014Z",
     "iopub.status.idle": "2025-07-08T03:56:52.639522Z",
     "shell.execute_reply": "2025-07-08T03:56:52.638432Z"
    },
    "papermill": {
     "duration": 5.165234,
     "end_time": "2025-07-08T03:56:52.641800",
     "exception": false,
     "start_time": "2025-07-08T03:56:47.476566",
     "status": "completed"
    },
    "tags": []
   },
   "outputs": [
    {
     "name": "stdout",
     "output_type": "stream",
     "text": [
      "Requirement already satisfied: seaborn in /usr/local/lib/python3.11/dist-packages (0.12.2)\r\n",
      "Requirement already satisfied: numpy in /usr/local/lib/python3.11/dist-packages (1.26.4)\r\n",
      "Requirement already satisfied: pandas in /usr/local/lib/python3.11/dist-packages (2.2.3)\r\n",
      "Requirement already satisfied: matplotlib in /usr/local/lib/python3.11/dist-packages (3.7.2)\r\n",
      "Requirement already satisfied: nltk in /usr/local/lib/python3.11/dist-packages (3.9.1)\r\n",
      "Requirement already satisfied: mkl_fft in /usr/local/lib/python3.11/dist-packages (from numpy) (1.3.8)\r\n",
      "Requirement already satisfied: mkl_random in /usr/local/lib/python3.11/dist-packages (from numpy) (1.2.4)\r\n",
      "Requirement already satisfied: mkl_umath in /usr/local/lib/python3.11/dist-packages (from numpy) (0.1.1)\r\n",
      "Requirement already satisfied: mkl in /usr/local/lib/python3.11/dist-packages (from numpy) (2025.2.0)\r\n",
      "Requirement already satisfied: tbb4py in /usr/local/lib/python3.11/dist-packages (from numpy) (2022.2.0)\r\n",
      "Requirement already satisfied: mkl-service in /usr/local/lib/python3.11/dist-packages (from numpy) (2.4.1)\r\n",
      "Requirement already satisfied: python-dateutil>=2.8.2 in /usr/local/lib/python3.11/dist-packages (from pandas) (2.9.0.post0)\r\n",
      "Requirement already satisfied: pytz>=2020.1 in /usr/local/lib/python3.11/dist-packages (from pandas) (2025.2)\r\n",
      "Requirement already satisfied: tzdata>=2022.7 in /usr/local/lib/python3.11/dist-packages (from pandas) (2025.2)\r\n",
      "Requirement already satisfied: contourpy>=1.0.1 in /usr/local/lib/python3.11/dist-packages (from matplotlib) (1.3.2)\r\n",
      "Requirement already satisfied: cycler>=0.10 in /usr/local/lib/python3.11/dist-packages (from matplotlib) (0.12.1)\r\n",
      "Requirement already satisfied: fonttools>=4.22.0 in /usr/local/lib/python3.11/dist-packages (from matplotlib) (4.58.4)\r\n",
      "Requirement already satisfied: kiwisolver>=1.0.1 in /usr/local/lib/python3.11/dist-packages (from matplotlib) (1.4.8)\r\n",
      "Requirement already satisfied: packaging>=20.0 in /usr/local/lib/python3.11/dist-packages (from matplotlib) (25.0)\r\n",
      "Requirement already satisfied: pillow>=6.2.0 in /usr/local/lib/python3.11/dist-packages (from matplotlib) (11.2.1)\r\n",
      "Requirement already satisfied: pyparsing<3.1,>=2.3.1 in /usr/local/lib/python3.11/dist-packages (from matplotlib) (3.0.9)\r\n",
      "Requirement already satisfied: click in /usr/local/lib/python3.11/dist-packages (from nltk) (8.2.1)\r\n",
      "Requirement already satisfied: joblib in /usr/local/lib/python3.11/dist-packages (from nltk) (1.5.1)\r\n",
      "Requirement already satisfied: regex>=2021.8.3 in /usr/local/lib/python3.11/dist-packages (from nltk) (2024.11.6)\r\n",
      "Requirement already satisfied: tqdm in /usr/local/lib/python3.11/dist-packages (from nltk) (4.67.1)\r\n",
      "Requirement already satisfied: six>=1.5 in /usr/local/lib/python3.11/dist-packages (from python-dateutil>=2.8.2->pandas) (1.17.0)\r\n",
      "Requirement already satisfied: intel-openmp<2026,>=2024 in /usr/local/lib/python3.11/dist-packages (from mkl->numpy) (2024.2.0)\r\n",
      "Requirement already satisfied: tbb==2022.* in /usr/local/lib/python3.11/dist-packages (from mkl->numpy) (2022.2.0)\r\n",
      "Requirement already satisfied: tcmlib==1.* in /usr/local/lib/python3.11/dist-packages (from tbb==2022.*->mkl->numpy) (1.4.0)\r\n",
      "Requirement already satisfied: intel-cmplr-lib-rt in /usr/local/lib/python3.11/dist-packages (from mkl_umath->numpy) (2024.2.0)\r\n",
      "Requirement already satisfied: intel-cmplr-lib-ur==2024.2.0 in /usr/local/lib/python3.11/dist-packages (from intel-openmp<2026,>=2024->mkl->numpy) (2024.2.0)\r\n"
     ]
    }
   ],
   "source": [
    "# Installing libraries\n",
    "!pip install seaborn numpy pandas matplotlib nltk"
   ]
  },
  {
   "cell_type": "raw",
   "id": "bc345192",
   "metadata": {
    "papermill": {
     "duration": 0.003655,
     "end_time": "2025-07-08T03:56:52.649408",
     "exception": false,
     "start_time": "2025-07-08T03:56:52.645753",
     "status": "completed"
    },
    "tags": []
   },
   "source": [
    "import nltk\n",
    "nltk.download('punkt')\n",
    "nltk.download('stopwords')"
   ]
  },
  {
   "cell_type": "code",
   "execution_count": 3,
   "id": "80715f61",
   "metadata": {
    "execution": {
     "iopub.execute_input": "2025-07-08T03:56:52.658496Z",
     "iopub.status.busy": "2025-07-08T03:56:52.658142Z",
     "iopub.status.idle": "2025-07-08T03:56:55.663605Z",
     "shell.execute_reply": "2025-07-08T03:56:55.662534Z"
    },
    "papermill": {
     "duration": 3.012183,
     "end_time": "2025-07-08T03:56:55.665377",
     "exception": false,
     "start_time": "2025-07-08T03:56:52.653194",
     "status": "completed"
    },
    "tags": []
   },
   "outputs": [],
   "source": [
    "# pandas for maniplating, cleaning, and exploring data\n",
    "import pandas as pd\n",
    "# numerical computing in Python. arrays and performance optimization\n",
    "import numpy as np\n",
    "# plotting\n",
    "import matplotlib.pyplot as plt\n",
    "# built ontop of plt, heatmaps, boxplots, distribution plots\n",
    "import seaborn as sns\n",
    "# basic natural language processing. tokenizations\n",
    "# stopwords, stemming, etc\n",
    "import nltk\n",
    "from nltk.tokenize import word_tokenize\n",
    "from nltk.corpus import stopwords"
   ]
  },
  {
   "cell_type": "markdown",
   "id": "bd4588cc",
   "metadata": {
    "papermill": {
     "duration": 0.003613,
     "end_time": "2025-07-08T03:56:55.673065",
     "exception": false,
     "start_time": "2025-07-08T03:56:55.669452",
     "status": "completed"
    },
    "tags": []
   },
   "source": [
    "## Load Datasets"
   ]
  },
  {
   "cell_type": "code",
   "execution_count": 4,
   "id": "7085855a",
   "metadata": {
    "execution": {
     "iopub.execute_input": "2025-07-08T03:56:55.682214Z",
     "iopub.status.busy": "2025-07-08T03:56:55.681718Z",
     "iopub.status.idle": "2025-07-08T03:56:55.719909Z",
     "shell.execute_reply": "2025-07-08T03:56:55.718787Z"
    },
    "papermill": {
     "duration": 0.044918,
     "end_time": "2025-07-08T03:56:55.721764",
     "exception": false,
     "start_time": "2025-07-08T03:56:55.676846",
     "status": "completed"
    },
    "tags": []
   },
   "outputs": [],
   "source": [
    "train = pd.read_csv('/kaggle/input/2024-u-s-election-sentiment-on-x/train.csv')\n",
    "test = pd.read_csv('/kaggle/input/2024-u-s-election-sentiment-on-x/test.csv')\n",
    "val = pd.read_csv('/kaggle/input/2024-u-s-election-sentiment-on-x/val.csv')"
   ]
  },
  {
   "cell_type": "markdown",
   "id": "e024897f",
   "metadata": {
    "papermill": {
     "duration": 0.003635,
     "end_time": "2025-07-08T03:56:55.729519",
     "exception": false,
     "start_time": "2025-07-08T03:56:55.725884",
     "status": "completed"
    },
    "tags": []
   },
   "source": [
    "## Display first few rows of each dataset"
   ]
  },
  {
   "cell_type": "markdown",
   "id": "a79311a2",
   "metadata": {
    "papermill": {
     "duration": 0.003493,
     "end_time": "2025-07-08T03:56:55.736786",
     "exception": false,
     "start_time": "2025-07-08T03:56:55.733293",
     "status": "completed"
    },
    "tags": []
   },
   "source": [
    "### Training Data\n",
    "Training data from the 2024 US Presidential election, sourcced from X (fromerly Twitter). It includes post text, candidate information, party affiliation, sentitment labels, retweet counts, and like. This data is ideal for training machine learning models to analyze public sentiment and trends."
   ]
  },
  {
   "cell_type": "code",
   "execution_count": 5,
   "id": "a3bfb6b8",
   "metadata": {
    "execution": {
     "iopub.execute_input": "2025-07-08T03:56:55.746467Z",
     "iopub.status.busy": "2025-07-08T03:56:55.746121Z",
     "iopub.status.idle": "2025-07-08T03:56:55.764838Z",
     "shell.execute_reply": "2025-07-08T03:56:55.763621Z"
    },
    "papermill": {
     "duration": 0.025129,
     "end_time": "2025-07-08T03:56:55.766534",
     "exception": false,
     "start_time": "2025-07-08T03:56:55.741405",
     "status": "completed"
    },
    "tags": []
   },
   "outputs": [
    {
     "name": "stdout",
     "output_type": "stream",
     "text": [
      "Train Dataset:    tweet_id     user_handle            timestamp  \\\n",
      "0         1        @user123  2024-11-03 08:45:00   \n",
      "1         2    @politicsFan  2024-11-03 09:15:23   \n",
      "2         3  @greenAdvocate  2024-11-03 10:05:45   \n",
      "3         4     @indieVoice  2024-11-03 11:20:10   \n",
      "4         5   @libertyLover  2024-11-03 12:35:55   \n",
      "\n",
      "                                          tweet_text       candidate  \\\n",
      "0  Excited to see Kamala Harris leading the Democ...   Kamala Harris   \n",
      "1  Donald Trump's policies are the best for our e...    Donald Trump   \n",
      "2  Jill Stein's environmental plans are exactly w...      Jill Stein   \n",
      "3  Robert Kennedy offers a fresh perspective outs...  Robert Kennedy   \n",
      "4  Chase Oliver's libertarian stance promotes tru...    Chase Oliver   \n",
      "\n",
      "               party  retweets  likes sentiment  \n",
      "0   Democratic Party       120    450  positive  \n",
      "1   Republican Party        85    300  positive  \n",
      "2        Green Party        60    200  positive  \n",
      "3        Independent        40    150   neutral  \n",
      "4  Libertarian Party        30    120  positive  \n"
     ]
    }
   ],
   "source": [
    "print('Train Dataset:', train.head())"
   ]
  },
  {
   "cell_type": "markdown",
   "id": "6dd1966d",
   "metadata": {
    "papermill": {
     "duration": 0.00381,
     "end_time": "2025-07-08T03:56:55.774811",
     "exception": false,
     "start_time": "2025-07-08T03:56:55.771001",
     "status": "completed"
    },
    "tags": []
   },
   "source": [
    "### Testing Data\n",
    "This file provides testing data from the 2024 US Presidential election. It contains post text, candidate details, party affilication, and engagement metrics. This dataset is used to evaluate the performance of models trains on the training data."
   ]
  },
  {
   "cell_type": "code",
   "execution_count": 6,
   "id": "c3f0ec7b",
   "metadata": {
    "execution": {
     "iopub.execute_input": "2025-07-08T03:56:55.784863Z",
     "iopub.status.busy": "2025-07-08T03:56:55.783923Z",
     "iopub.status.idle": "2025-07-08T03:56:55.792070Z",
     "shell.execute_reply": "2025-07-08T03:56:55.790935Z"
    },
    "papermill": {
     "duration": 0.014536,
     "end_time": "2025-07-08T03:56:55.793525",
     "exception": false,
     "start_time": "2025-07-08T03:56:55.778989",
     "status": "completed"
    },
    "tags": []
   },
   "outputs": [
    {
     "name": "stdout",
     "output_type": "stream",
     "text": [
      "\n",
      " Test Dataset:    tweet_id       user_handle            timestamp  \\\n",
      "0       501         @user1068  2025-02-11 08:30:10   \n",
      "1       502     @politicsNew2  2025-02-11 09:15:20   \n",
      "2       503  @greenVisionary2  2025-02-11 10:05:35   \n",
      "3       504    @indieWatcher2  2025-02-11 11:25:40   \n",
      "4       505      @libertyFan4  2025-02-11 12:40:50   \n",
      "\n",
      "                                          tweet_text       candidate  \\\n",
      "0  Kamala Harris's new policy on education reform...   Kamala Harris   \n",
      "1  Donald Trump's latest speech on the economy wa...    Donald Trump   \n",
      "2  Jill Stein's environmental policies are a step...      Jill Stein   \n",
      "3  Robert Kennedy's independent run brings fresh ...  Robert Kennedy   \n",
      "4  Chase Oliver's stance on gun rights is unwaver...    Chase Oliver   \n",
      "\n",
      "               party  retweets  likes sentiment  \n",
      "0   Democratic Party        85    320  positive  \n",
      "1   Republican Party       100    450  positive  \n",
      "2        Green Party        60    200  positive  \n",
      "3        Independent        30    120   neutral  \n",
      "4  Libertarian Party        50    160  positive  \n"
     ]
    }
   ],
   "source": [
    "print('\\n Test Dataset:', test.head())"
   ]
  },
  {
   "cell_type": "markdown",
   "id": "ce56b677",
   "metadata": {
    "papermill": {
     "duration": 0.003762,
     "end_time": "2025-07-08T03:56:55.801260",
     "exception": false,
     "start_time": "2025-07-08T03:56:55.797498",
     "status": "completed"
    },
    "tags": []
   },
   "source": [
    "### Validation Data\n",
    "This file contains validation data for the 2024 US Presidential election. It includes post content, candidates, party affiliation, and sentiment labels. Use this file to fine-tune and validate model accuracy and performance. "
   ]
  },
  {
   "cell_type": "code",
   "execution_count": 7,
   "id": "56bd2c4c",
   "metadata": {
    "execution": {
     "iopub.execute_input": "2025-07-08T03:56:55.810936Z",
     "iopub.status.busy": "2025-07-08T03:56:55.810282Z",
     "iopub.status.idle": "2025-07-08T03:56:55.817922Z",
     "shell.execute_reply": "2025-07-08T03:56:55.816829Z"
    },
    "papermill": {
     "duration": 0.014257,
     "end_time": "2025-07-08T03:56:55.819529",
     "exception": false,
     "start_time": "2025-07-08T03:56:55.805272",
     "status": "completed"
    },
    "tags": []
   },
   "outputs": [
    {
     "name": "stdout",
     "output_type": "stream",
     "text": [
      "Validation Dataset:    tweet_id       user_handle            timestamp  \\\n",
      "0       551         @user1077  2025-02-21 08:30:10   \n",
      "1       552     @politicsNew3  2025-02-21 09:15:20   \n",
      "2       553  @greenVisionary3  2025-02-21 10:05:35   \n",
      "3       554    @indieWatcher3  2025-02-21 11:25:40   \n",
      "4       555      @libertyFan5  2025-02-21 12:40:50   \n",
      "\n",
      "                                          tweet_text       candidate  \\\n",
      "0  Kamala Harris's new policy on education reform...   Kamala Harris   \n",
      "1  Donald Trump's latest speech on the economy wa...    Donald Trump   \n",
      "2  Jill Stein's environmental policies are a step...      Jill Stein   \n",
      "3  Robert Kennedy's independent run brings fresh ...  Robert Kennedy   \n",
      "4  Chase Oliver's stance on gun rights is unwaver...    Chase Oliver   \n",
      "\n",
      "               party  retweets  likes sentiment  \n",
      "0   Democratic Party        85    320  positive  \n",
      "1   Republican Party       100    450  positive  \n",
      "2        Green Party        60    200  positive  \n",
      "3        Independent        30    120   neutral  \n",
      "4  Libertarian Party        50    160  positive  \n"
     ]
    }
   ],
   "source": [
    "print('Validation Dataset:', val.head())"
   ]
  },
  {
   "cell_type": "markdown",
   "id": "04d54224",
   "metadata": {
    "papermill": {
     "duration": 0.003843,
     "end_time": "2025-07-08T03:56:55.828265",
     "exception": false,
     "start_time": "2025-07-08T03:56:55.824422",
     "status": "completed"
    },
    "tags": []
   },
   "source": [
    "# Data Exploration"
   ]
  },
  {
   "cell_type": "markdown",
   "id": "b9f790bb",
   "metadata": {
    "papermill": {
     "duration": 0.003718,
     "end_time": "2025-07-08T03:56:55.836078",
     "exception": false,
     "start_time": "2025-07-08T03:56:55.832360",
     "status": "completed"
    },
    "tags": []
   },
   "source": [
    "Dataset overview for all 3 files"
   ]
  },
  {
   "cell_type": "markdown",
   "id": "de0c543f",
   "metadata": {
    "papermill": {
     "duration": 0.003724,
     "end_time": "2025-07-08T03:56:55.843734",
     "exception": false,
     "start_time": "2025-07-08T03:56:55.840010",
     "status": "completed"
    },
    "tags": []
   },
   "source": [
    "### `pandas.info()`\n",
    "`.info()` is a pandas method that \"prints a concise summary oof a DataFrame.\n",
    "This method provides a concise summary about a DataFrame including data types, non-null values, and memeory usage for each column. <br>\n"
   ]
  },
  {
   "cell_type": "code",
   "execution_count": 8,
   "id": "4b34e98f",
   "metadata": {
    "execution": {
     "iopub.execute_input": "2025-07-08T03:56:55.853117Z",
     "iopub.status.busy": "2025-07-08T03:56:55.852759Z",
     "iopub.status.idle": "2025-07-08T03:56:55.877316Z",
     "shell.execute_reply": "2025-07-08T03:56:55.876274Z"
    },
    "papermill": {
     "duration": 0.03114,
     "end_time": "2025-07-08T03:56:55.879017",
     "exception": false,
     "start_time": "2025-07-08T03:56:55.847877",
     "status": "completed"
    },
    "tags": []
   },
   "outputs": [
    {
     "name": "stdout",
     "output_type": "stream",
     "text": [
      "Train Dataset Info:\n",
      "<class 'pandas.core.frame.DataFrame'>\n",
      "RangeIndex: 500 entries, 0 to 499\n",
      "Data columns (total 9 columns):\n",
      " #   Column       Non-Null Count  Dtype \n",
      "---  ------       --------------  ----- \n",
      " 0   tweet_id     500 non-null    int64 \n",
      " 1   user_handle  500 non-null    object\n",
      " 2   timestamp    500 non-null    object\n",
      " 3   tweet_text   500 non-null    object\n",
      " 4   candidate    500 non-null    object\n",
      " 5   party        500 non-null    object\n",
      " 6   retweets     500 non-null    int64 \n",
      " 7   likes        500 non-null    int64 \n",
      " 8   sentiment    500 non-null    object\n",
      "dtypes: int64(3), object(6)\n",
      "memory usage: 35.3+ KB\n"
     ]
    }
   ],
   "source": [
    "print('Train Dataset Info:')\n",
    "train.info()"
   ]
  },
  {
   "cell_type": "code",
   "execution_count": 9,
   "id": "19fd40c3",
   "metadata": {
    "execution": {
     "iopub.execute_input": "2025-07-08T03:56:55.888563Z",
     "iopub.status.busy": "2025-07-08T03:56:55.888280Z",
     "iopub.status.idle": "2025-07-08T03:56:55.899173Z",
     "shell.execute_reply": "2025-07-08T03:56:55.898019Z"
    },
    "papermill": {
     "duration": 0.0174,
     "end_time": "2025-07-08T03:56:55.900683",
     "exception": false,
     "start_time": "2025-07-08T03:56:55.883283",
     "status": "completed"
    },
    "tags": []
   },
   "outputs": [
    {
     "name": "stdout",
     "output_type": "stream",
     "text": [
      "Test Dataset Info: \n",
      "<class 'pandas.core.frame.DataFrame'>\n",
      "RangeIndex: 50 entries, 0 to 49\n",
      "Data columns (total 9 columns):\n",
      " #   Column       Non-Null Count  Dtype \n",
      "---  ------       --------------  ----- \n",
      " 0   tweet_id     50 non-null     int64 \n",
      " 1   user_handle  50 non-null     object\n",
      " 2   timestamp    50 non-null     object\n",
      " 3   tweet_text   50 non-null     object\n",
      " 4   candidate    50 non-null     object\n",
      " 5   party        50 non-null     object\n",
      " 6   retweets     50 non-null     int64 \n",
      " 7   likes        50 non-null     int64 \n",
      " 8   sentiment    50 non-null     object\n",
      "dtypes: int64(3), object(6)\n",
      "memory usage: 3.6+ KB\n"
     ]
    }
   ],
   "source": [
    "print('Test Dataset Info: ')\n",
    "test.info()"
   ]
  },
  {
   "cell_type": "code",
   "execution_count": 10,
   "id": "c69325ea",
   "metadata": {
    "execution": {
     "iopub.execute_input": "2025-07-08T03:56:55.910800Z",
     "iopub.status.busy": "2025-07-08T03:56:55.909976Z",
     "iopub.status.idle": "2025-07-08T03:56:55.920343Z",
     "shell.execute_reply": "2025-07-08T03:56:55.919238Z"
    },
    "papermill": {
     "duration": 0.016871,
     "end_time": "2025-07-08T03:56:55.921796",
     "exception": false,
     "start_time": "2025-07-08T03:56:55.904925",
     "status": "completed"
    },
    "tags": []
   },
   "outputs": [
    {
     "name": "stdout",
     "output_type": "stream",
     "text": [
      "Validation Dataset Info: \n",
      "<class 'pandas.core.frame.DataFrame'>\n",
      "RangeIndex: 50 entries, 0 to 49\n",
      "Data columns (total 9 columns):\n",
      " #   Column       Non-Null Count  Dtype \n",
      "---  ------       --------------  ----- \n",
      " 0   tweet_id     50 non-null     int64 \n",
      " 1   user_handle  50 non-null     object\n",
      " 2   timestamp    50 non-null     object\n",
      " 3   tweet_text   50 non-null     object\n",
      " 4   candidate    50 non-null     object\n",
      " 5   party        50 non-null     object\n",
      " 6   retweets     50 non-null     int64 \n",
      " 7   likes        50 non-null     int64 \n",
      " 8   sentiment    50 non-null     object\n",
      "dtypes: int64(3), object(6)\n",
      "memory usage: 3.6+ KB\n"
     ]
    }
   ],
   "source": [
    "print('Validation Dataset Info: ')\n",
    "val.info()"
   ]
  },
  {
   "cell_type": "code",
   "execution_count": null,
   "id": "d6138fe9",
   "metadata": {
    "papermill": {
     "duration": 0.004272,
     "end_time": "2025-07-08T03:56:55.930479",
     "exception": false,
     "start_time": "2025-07-08T03:56:55.926207",
     "status": "completed"
    },
    "tags": []
   },
   "outputs": [],
   "source": []
  }
 ],
 "metadata": {
  "kaggle": {
   "accelerator": "none",
   "dataSources": [
    {
     "datasetId": 6253429,
     "sourceId": 10132394,
     "sourceType": "datasetVersion"
    }
   ],
   "dockerImageVersionId": 31089,
   "isGpuEnabled": false,
   "isInternetEnabled": false,
   "language": "python",
   "sourceType": "notebook"
  },
  "kernelspec": {
   "display_name": "Python 3",
   "language": "python",
   "name": "python3"
  },
  "language_info": {
   "codemirror_mode": {
    "name": "ipython",
    "version": 3
   },
   "file_extension": ".py",
   "mimetype": "text/x-python",
   "name": "python",
   "nbconvert_exporter": "python",
   "pygments_lexer": "ipython3",
   "version": "3.11.13"
  },
  "papermill": {
   "default_parameters": {},
   "duration": 15.973665,
   "end_time": "2025-07-08T03:56:56.754713",
   "environment_variables": {},
   "exception": null,
   "input_path": "__notebook__.ipynb",
   "output_path": "__notebook__.ipynb",
   "parameters": {},
   "start_time": "2025-07-08T03:56:40.781048",
   "version": "2.6.0"
  }
 },
 "nbformat": 4,
 "nbformat_minor": 5
}
